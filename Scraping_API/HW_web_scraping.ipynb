{
 "cells": [
  {
   "cell_type": "markdown",
   "metadata": {},
   "source": [
    "# Домашнее задание к лекции \"Основы веб-скрапинга и работы с API\""
   ]
  },
  {
   "cell_type": "markdown",
   "metadata": {},
   "source": [
    "## Задание 1. \n",
    "\n",
    "### Обязательная часть"
   ]
  },
  {
   "cell_type": "markdown",
   "metadata": {},
   "source": [
    "Будем парсить страницу со свежеми новостям на [habr.com/ru/all/](https://habr.com/ru/all/).\n",
    "\n",
    "Вам необходимо собирать только те статьи, в которых встречается хотя бы одно требуемое ключевое слово. Эти слова определяем в начале кода в переменной, например:\n",
    "\n",
    "`KEYWORDS = ['python', 'парсинг']`\n",
    "\n",
    " Поиск вести по всей доступной preview-информации (это информация, доступная непосредственно с текущей страницы). \n",
    " \n",
    "В итоге должен формироваться датафрейм вида: `<дата> - <заголовок> - <ссылка>`"
   ]
  },
  {
   "cell_type": "code",
   "execution_count": 1,
   "metadata": {},
   "outputs": [],
   "source": [
    "import requests\n",
    "from bs4 import BeautifulSoup\n",
    "import time\n",
    "import pandas as pd"
   ]
  },
  {
   "cell_type": "code",
   "execution_count": 2,
   "metadata": {},
   "outputs": [],
   "source": [
    "KEYWORDS = ['python', 'парсинг']\n",
    "req = requests.get('https://habr.com/ru/all/')\n",
    "soup = BeautifulSoup(req.text, 'html.parser')\n",
    "posts = soup.find_all('article', class_='post')\n",
    "titles_block = list(map(lambda x: x.find('h2', class_='post__title'), posts))\n",
    "links = list(map(lambda x: x.find('a').get('href'), titles_block)) "
   ]
  },
  {
   "cell_type": "code",
   "execution_count": 3,
   "metadata": {
    "scrolled": true
   },
   "outputs": [],
   "source": [
    "def get_all_links(url):\n",
    "    req = requests.get(url)\n",
    "    soup = BeautifulSoup(req.text, 'html.parser')\n",
    "    posts = soup.find_all('article', class_='post')\n",
    "    titles_block = list(map(lambda x: x.find('h2', class_='post__title'), posts))\n",
    "    links = list(map(lambda x: x.find('a').get('href'), titles_block)) \n",
    "    return links\n",
    "\n",
    "all_links = get_all_links('https://habr.com/ru/all/')"
   ]
  },
  {
   "cell_type": "code",
   "execution_count": 4,
   "metadata": {},
   "outputs": [],
   "source": [
    "def get_right_news(links, keywords):\n",
    "    all_right_articles = pd.DataFrame()\n",
    "    for link in links:\n",
    "        req = requests.get(link).text\n",
    "        soup = BeautifulSoup(req, 'html.parser')\n",
    "        time.sleep(0.3)\n",
    "        article = soup.find('div', class_='post__body').text.lower()\n",
    "        if any([word in article for word in keywords]):\n",
    "            date = pd.to_datetime(soup.find('span', class_='post__time').get('data-time_published'), dayfirst=True).date()\n",
    "            title = soup.find('span', class_='post__title-text').text\n",
    "            \n",
    "            res = {'date': date, 'title': title, 'link': link, 'text': article}\n",
    "            all_right_articles = pd.concat([all_right_articles, pd.DataFrame([res])])\n",
    "    return all_right_articles\n",
    "\n",
    "all_articles = get_right_news(all_links, KEYWORDS)"
   ]
  },
  {
   "cell_type": "code",
   "execution_count": 5,
   "metadata": {},
   "outputs": [
    {
     "data": {
      "text/html": [
       "<div>\n",
       "<style scoped>\n",
       "    .dataframe tbody tr th:only-of-type {\n",
       "        vertical-align: middle;\n",
       "    }\n",
       "\n",
       "    .dataframe tbody tr th {\n",
       "        vertical-align: top;\n",
       "    }\n",
       "\n",
       "    .dataframe thead th {\n",
       "        text-align: right;\n",
       "    }\n",
       "</style>\n",
       "<table border=\"1\" class=\"dataframe\">\n",
       "  <thead>\n",
       "    <tr style=\"text-align: right;\">\n",
       "      <th></th>\n",
       "      <th>date</th>\n",
       "      <th>title</th>\n",
       "      <th>link</th>\n",
       "      <th>text</th>\n",
       "    </tr>\n",
       "  </thead>\n",
       "  <tbody>\n",
       "    <tr>\n",
       "      <td>0</td>\n",
       "      <td>2020-12-05</td>\n",
       "      <td>Машинное обучение: ансамбль смешивания на Python</td>\n",
       "      <td>https://habr.com/ru/company/skillfactory/blog/...</td>\n",
       "      <td>\\nсмешивание — это ансамблевый алгоритм машинн...</td>\n",
       "    </tr>\n",
       "    <tr>\n",
       "      <td>0</td>\n",
       "      <td>2020-12-05</td>\n",
       "      <td>Гипертимезия и эволюция в IT</td>\n",
       "      <td>https://habr.com/ru/post/531438/</td>\n",
       "      <td>\\nнедавно открыл для себя термин “гипертимезия...</td>\n",
       "    </tr>\n",
       "  </tbody>\n",
       "</table>\n",
       "</div>"
      ],
      "text/plain": [
       "         date                                             title  \\\n",
       "0  2020-12-05  Машинное обучение: ансамбль смешивания на Python   \n",
       "0  2020-12-05                      Гипертимезия и эволюция в IT   \n",
       "\n",
       "                                                link  \\\n",
       "0  https://habr.com/ru/company/skillfactory/blog/...   \n",
       "0                   https://habr.com/ru/post/531438/   \n",
       "\n",
       "                                                text  \n",
       "0  \\nсмешивание — это ансамблевый алгоритм машинн...  \n",
       "0  \\nнедавно открыл для себя термин “гипертимезия...  "
      ]
     },
     "execution_count": 5,
     "metadata": {},
     "output_type": "execute_result"
    }
   ],
   "source": [
    "all_articles"
   ]
  },
  {
   "cell_type": "markdown",
   "metadata": {},
   "source": [
    "### Дополнительная часть (необязательная)"
   ]
  },
  {
   "cell_type": "markdown",
   "metadata": {},
   "source": [
    "Улучшить скрипт так, чтобы он анализировал не только preview-информацию статьи, но и весь текст статьи целиком.\n",
    "\n",
    "Для этого потребуется получать страницы статей и искать по тексту внутри этой страницы.  \n",
    "\n",
    "Итоговый датафрейм формировать со столбцами: `<дата> - <заголовок> - <ссылка> - <текст_статьи>`\n"
   ]
  },
  {
   "cell_type": "markdown",
   "metadata": {},
   "source": [
    "## Задание 2."
   ]
  },
  {
   "cell_type": "markdown",
   "metadata": {},
   "source": [
    "### Обязательная часть"
   ]
  },
  {
   "cell_type": "markdown",
   "metadata": {},
   "source": [
    "Написать скрипт, который будет проверять список e-mail адресов на утечку при помощи сервиса [Avast Hack Ckeck](https://www.avast.com/hackcheck/).\n",
    "Список email-ов задаем переменной в начале кода:  \n",
    "`EMAIL = [xxx@x.ru, yyy@y.com]`\n",
    "\n",
    "В итоге должен формироваться датафрейм со столбцами: `<почта> - <дата утечки> - <источник утечки> - <описание утечки>`  \n",
    "\n",
    "**Подсказка**: сервис работает при помощи \"скрытого\" API. Внимательно изучите post-запросы."
   ]
  },
  {
   "cell_type": "code",
   "execution_count": 8,
   "metadata": {},
   "outputs": [],
   "source": [
    "URL_base = 'https://identityprotection.avast.com/v1/web/query/site-breaches/unauthorized-data'\n",
    "EMAIL = ['alpotehinj@gmail.com', 'delluiza@yandex.ru']"
   ]
  },
  {
   "cell_type": "code",
   "execution_count": 9,
   "metadata": {
    "scrolled": false
   },
   "outputs": [
    {
     "name": "stdout",
     "output_type": "stream",
     "text": [
      "{\"breaches\":{\"3858\":{\"breachId\":3858,\"site\":\"streamcraft.net\",\"recordsCount\":2971087,\"description\":\"At an unconfirmed date, StreamCraft's user database was allegedly breached. The stolen data contains over 183,000 records including email addresses and passwords. The compromised data is being shared privately on the darknet.\",\"publishDate\":\"2017-04-14T00:00:00Z\",\"statistics\":{\"usernames\":2788530,\"passwords\":2015623,\"emails\":1964476}},\"17830\":{\"breachId\":17830,\"site\":\"wattpad.com\",\"recordsCount\":273322456,\"description\":\"In June 2020, the online writing community Wattpad was allegedly breached. The stolen data contains usernames, IPs, passwords, email addresses and additional personal information. This breach is being privately shared on the internet.\",\"publishDate\":\"2020-07-23T00:00:00Z\",\"statistics\":{\"usernames\":270846321,\"passwords\":192540751,\"emails\":273004868}},\"18150\":{\"breachId\":18150,\"site\":\"gonitro.com\",\"recordsCount\":86440975,\"description\":\"In October 2020, the PDF editor Nitro was allegedly breached. The stolen data contains passwords, IPs, email addresses and additional personal information. This breach is being privately shared on the internet.\",\"publishDate\":\"2020-11-19T00:00:00Z\",\"statistics\":{\"usernames\":0,\"passwords\":18103956,\"emails\":86440757}},\"18122\":{\"breachId\":18122,\"site\":\"vimeworld.ru\",\"recordsCount\":12537602,\"description\":\"In January 2018, the Russian Minecraft server VimeWorld was allegedly breached. The stolen data contains email addresses,  passwords and usernames. This breach is being privately shared on the internet.\",\"publishDate\":\"2020-11-05T00:00:00Z\",\"statistics\":{\"usernames\":9195268,\"passwords\":12530713,\"emails\":8517817}}},\"data\":{\"streamcraft.net\":{\"alpotehinj@gmail.com\":[{\"breachId\":3858,\"usernameBreached\":true,\"passwordBreached\":true}]},\"vimeworld.ru\":{\"alpotehinj@gmail.com\":[{\"breachId\":18122,\"usernameBreached\":true,\"passwordBreached\":true}]},\"gonitro.com\":{\"alpotehinj@gmail.com\":[{\"breachId\":18150,\"usernameBreached\":true,\"passwordBreached\":true}]},\"wattpad.com\":{\"alpotehinj@gmail.com\":[{\"breachId\":17830,\"usernameBreached\":true,\"passwordBreached\":true}]}},\"summary\":{\"alpotehinj@gmail.com\":{\"breaches\":[3858,17830,18150,18122]}}}\n",
      "{\"breaches\":{\"3858\":{\"breachId\":3858,\"site\":\"streamcraft.net\",\"recordsCount\":2971087,\"description\":\"At an unconfirmed date, StreamCraft's user database was allegedly breached. The stolen data contains over 183,000 records including email addresses and passwords. The compromised data is being shared privately on the darknet.\",\"publishDate\":\"2017-04-14T00:00:00Z\",\"statistics\":{\"usernames\":2788530,\"passwords\":2015623,\"emails\":1964476}},\"17665\":{\"breachId\":17665,\"site\":\"stalker.so\",\"recordsCount\":1300204,\"description\":\"In January 2020, the Russian multiplayer video game Stalker Online was allegedly breached. The stolen data contains usernames, IPs, passwords, and email addresses. This breach is being privately shared on the internet.\",\"publishDate\":\"2020-05-28T00:00:00Z\",\"statistics\":{\"usernames\":812994,\"passwords\":1300050,\"emails\":1298521}},\"16868\":{\"breachId\":16868,\"site\":\"borealis.su\",\"recordsCount\":349061,\"description\":\"At an unconfirmed date, Russian Minecraft server Borealis.su's database was allegedly breached. The stolen data contains usernames, passwords, and email addresses. This breach is being privately shared on the internet.\",\"publishDate\":\"2019-08-08T00:00:00Z\",\"statistics\":{\"usernames\":349054,\"passwords\":349039,\"emails\":345545}},\"17830\":{\"breachId\":17830,\"site\":\"wattpad.com\",\"recordsCount\":273322456,\"description\":\"In June 2020, the online writing community Wattpad was allegedly breached. The stolen data contains usernames, IPs, passwords, email addresses and additional personal information. This breach is being privately shared on the internet.\",\"publishDate\":\"2020-07-23T00:00:00Z\",\"statistics\":{\"usernames\":270846321,\"passwords\":192540751,\"emails\":273004868}},\"3176\":{\"breachId\":3176,\"site\":\"parapa.mail.ru\",\"recordsCount\":5029003,\"description\":\"In July and August 2016, two criminals executed attacks against three separate forums hosted by Mail.ru including the Russian forum Parapa. Shortly after the breach occurred, the contents of Parapa's database were leaked publicly. The database contains usernames, email addresses, and hashed passwords for around 5 million users.\",\"publishDate\":\"2017-02-14T00:00:00Z\",\"statistics\":{\"usernames\":5029000,\"passwords\":5029003,\"emails\":4941344}},\"27762\":{\"breachId\":27762,\"site\":\"mindset24global.com\",\"recordsCount\":395510,\"description\":\"In November 2020, a collection of over 23,000 breached sites was leaked on several hacking forums and Telegram channels. These breached sites originated from Cit0Day, a now-defunct private subscription service marketed towards criminals. The leaked data primarily includes email addresses and passwords that Cit0Day offered for a daily or monthly subscription fee.\",\"publishDate\":\"2020-12-03T00:00:00Z\",\"statistics\":{\"usernames\":0,\"passwords\":393394,\"emails\":395510}},\"12\":{\"breachId\":12,\"site\":\"vk.com\",\"recordsCount\":91262655,\"description\":\"Popular Russian social networking platform VKontakte was breached in late 2012. Over 100 million clear-text passwords were compromised in the breach. Breached credential sets included victims' e-mail addresses, passwords, dates of birth, phone numbers and location details. The credential set was advertised on a dark web marketplace as of June 2016 for a price of one bitcoin. \",\"publishDate\":\"2016-10-29T00:00:00Z\",\"statistics\":{\"usernames\":0,\"passwords\":89691243,\"emails\":91262653}},\"18150\":{\"breachId\":18150,\"site\":\"gonitro.com\",\"recordsCount\":86440975,\"description\":\"In October 2020, the PDF editor Nitro was allegedly breached. The stolen data contains passwords, IPs, email addresses and additional personal information. This breach is being privately shared on the internet.\",\"publishDate\":\"2020-11-19T00:00:00Z\",\"statistics\":{\"usernames\":0,\"passwords\":18103956,\"emails\":86440757}},\"17457\":{\"breachId\":17457,\"site\":\"vkmix.com\",\"recordsCount\":2127865,\"description\":\"At an unconfirmed date, the Russian social media sharing service VK Mix was allegedly breached. The stolen data contains passwords and email addresses. This breach is being privately shared on the internet.\",\"publishDate\":\"2020-04-09T00:00:00Z\",\"statistics\":{\"usernames\":0,\"passwords\":2127865,\"emails\":2127865}},\"18122\":{\"breachId\":18122,\"site\":\"vimeworld.ru\",\"recordsCount\":12537602,\"description\":\"In January 2018, the Russian Minecraft server VimeWorld was allegedly breached. The stolen data contains email addresses,  passwords and usernames. This breach is being privately shared on the internet.\",\"publishDate\":\"2020-11-05T00:00:00Z\",\"statistics\":{\"usernames\":9195268,\"passwords\":12530713,\"emails\":8517817}}},\"data\":{\"parapa.mail.ru\":{\"delluiza@yandex.ru\":[{\"breachId\":3176,\"usernameBreached\":true,\"passwordBreached\":true}]},\"mindset24global.com\":{\"delluiza@yandex.ru\":[{\"breachId\":27762,\"usernameBreached\":true,\"passwordBreached\":true}]},\"borealis.su\":{\"delluiza@yandex.ru\":[{\"breachId\":16868,\"usernameBreached\":true,\"passwordBreached\":true}]},\"wattpad.com\":{\"delluiza@yandex.ru\":[{\"breachId\":17830,\"usernameBreached\":true,\"passwordBreached\":true}]},\"streamcraft.net\":{\"delluiza@yandex.ru\":[{\"breachId\":3858,\"usernameBreached\":true,\"passwordBreached\":true}]},\"vkmix.com\":{\"delluiza@yandex.ru\":[{\"breachId\":17457,\"usernameBreached\":true,\"passwordBreached\":true}]},\"vimeworld.ru\":{\"delluiza@yandex.ru\":[{\"breachId\":18122,\"usernameBreached\":true,\"passwordBreached\":true}]},\"vk.com\":{\"delluiza@yandex.ru\":[{\"breachId\":12,\"usernameBreached\":true,\"passwordBreached\":true}]},\"stalker.so\":{\"delluiza@yandex.ru\":[{\"breachId\":17665,\"usernameBreached\":true,\"passwordBreached\":true}]},\"gonitro.com\":{\"delluiza@yandex.ru\":[{\"breachId\":18150,\"usernameBreached\":true,\"passwordBreached\":true}]}},\"summary\":{\"delluiza@yandex.ru\":{\"breaches\":[3858,17665,16868,17830,3176,27762,12,18150,17457,18122]}}}\n"
     ]
    }
   ],
   "source": [
    "def get_list_req(URL, emails):\n",
    "    list_req = []\n",
    "    headers = {\n",
    "        'Vaar-Version': '0',\n",
    "        'Vaar-Header-App-Product': 'hackcheck-web-avast'  \n",
    "    }\n",
    "    for email in emails:\n",
    "        data = {\n",
    "            'emailAddresses': [email]\n",
    "        }\n",
    "        req = requests.post(URL, json=data, headers=headers)\n",
    "        print(req.text)\n",
    "        list_req.append(req.json())\n",
    "        time.sleep(2)\n",
    "    return list_req\n",
    "\n",
    "list_requests = get_list_req(URL_base, EMAIL)"
   ]
  },
  {
   "cell_type": "code",
   "execution_count": 45,
   "metadata": {},
   "outputs": [],
   "source": [
    "def get_data_breaches(dict_breaches, emails):\n",
    "    all_breaches_info = pd.DataFrame()\n",
    "    for i in range(len(dict_breaches)):\n",
    "        breach = dict_breaches[i]['breaches']\n",
    "        email = emails[i]\n",
    "        for key, value in breach.items():\n",
    "            date = pd.to_datetime(value['publishDate']).date()\n",
    "            source = value['site']\n",
    "            desc = value['description']\n",
    "            row = {'email': email, 'publish_date': date, 'source_breach': source, 'description': desc}\n",
    "            all_breaches_info = pd.concat([all_breaches_info, pd.DataFrame([row])])\n",
    "    return all_breaches_info\n",
    "\n",
    "all_breaches_info = get_data_breaches(list_requests, EMAIL)"
   ]
  },
  {
   "cell_type": "code",
   "execution_count": 46,
   "metadata": {},
   "outputs": [
    {
     "data": {
      "text/html": [
       "<div>\n",
       "<style scoped>\n",
       "    .dataframe tbody tr th:only-of-type {\n",
       "        vertical-align: middle;\n",
       "    }\n",
       "\n",
       "    .dataframe tbody tr th {\n",
       "        vertical-align: top;\n",
       "    }\n",
       "\n",
       "    .dataframe thead th {\n",
       "        text-align: right;\n",
       "    }\n",
       "</style>\n",
       "<table border=\"1\" class=\"dataframe\">\n",
       "  <thead>\n",
       "    <tr style=\"text-align: right;\">\n",
       "      <th></th>\n",
       "      <th>email</th>\n",
       "      <th>publish_date</th>\n",
       "      <th>source_breach</th>\n",
       "      <th>description</th>\n",
       "    </tr>\n",
       "  </thead>\n",
       "  <tbody>\n",
       "    <tr>\n",
       "      <td>0</td>\n",
       "      <td>alpotehinj@gmail.com</td>\n",
       "      <td>2017-04-14</td>\n",
       "      <td>streamcraft.net</td>\n",
       "      <td>At an unconfirmed date, StreamCraft's user dat...</td>\n",
       "    </tr>\n",
       "    <tr>\n",
       "      <td>0</td>\n",
       "      <td>alpotehinj@gmail.com</td>\n",
       "      <td>2020-07-23</td>\n",
       "      <td>wattpad.com</td>\n",
       "      <td>In June 2020, the online writing community Wat...</td>\n",
       "    </tr>\n",
       "    <tr>\n",
       "      <td>0</td>\n",
       "      <td>alpotehinj@gmail.com</td>\n",
       "      <td>2020-11-19</td>\n",
       "      <td>gonitro.com</td>\n",
       "      <td>In October 2020, the PDF editor Nitro was alle...</td>\n",
       "    </tr>\n",
       "    <tr>\n",
       "      <td>0</td>\n",
       "      <td>alpotehinj@gmail.com</td>\n",
       "      <td>2020-11-05</td>\n",
       "      <td>vimeworld.ru</td>\n",
       "      <td>In January 2018, the Russian Minecraft server ...</td>\n",
       "    </tr>\n",
       "    <tr>\n",
       "      <td>0</td>\n",
       "      <td>delluiza@yandex.ru</td>\n",
       "      <td>2017-04-14</td>\n",
       "      <td>streamcraft.net</td>\n",
       "      <td>At an unconfirmed date, StreamCraft's user dat...</td>\n",
       "    </tr>\n",
       "    <tr>\n",
       "      <td>0</td>\n",
       "      <td>delluiza@yandex.ru</td>\n",
       "      <td>2020-05-28</td>\n",
       "      <td>stalker.so</td>\n",
       "      <td>In January 2020, the Russian multiplayer video...</td>\n",
       "    </tr>\n",
       "    <tr>\n",
       "      <td>0</td>\n",
       "      <td>delluiza@yandex.ru</td>\n",
       "      <td>2019-08-08</td>\n",
       "      <td>borealis.su</td>\n",
       "      <td>At an unconfirmed date, Russian Minecraft serv...</td>\n",
       "    </tr>\n",
       "    <tr>\n",
       "      <td>0</td>\n",
       "      <td>delluiza@yandex.ru</td>\n",
       "      <td>2020-07-23</td>\n",
       "      <td>wattpad.com</td>\n",
       "      <td>In June 2020, the online writing community Wat...</td>\n",
       "    </tr>\n",
       "    <tr>\n",
       "      <td>0</td>\n",
       "      <td>delluiza@yandex.ru</td>\n",
       "      <td>2017-02-14</td>\n",
       "      <td>parapa.mail.ru</td>\n",
       "      <td>In July and August 2016, two criminals execute...</td>\n",
       "    </tr>\n",
       "    <tr>\n",
       "      <td>0</td>\n",
       "      <td>delluiza@yandex.ru</td>\n",
       "      <td>2020-12-03</td>\n",
       "      <td>mindset24global.com</td>\n",
       "      <td>In November 2020, a collection of over 23,000 ...</td>\n",
       "    </tr>\n",
       "    <tr>\n",
       "      <td>0</td>\n",
       "      <td>delluiza@yandex.ru</td>\n",
       "      <td>2016-10-29</td>\n",
       "      <td>vk.com</td>\n",
       "      <td>Popular Russian social networking platform VKo...</td>\n",
       "    </tr>\n",
       "    <tr>\n",
       "      <td>0</td>\n",
       "      <td>delluiza@yandex.ru</td>\n",
       "      <td>2020-11-19</td>\n",
       "      <td>gonitro.com</td>\n",
       "      <td>In October 2020, the PDF editor Nitro was alle...</td>\n",
       "    </tr>\n",
       "    <tr>\n",
       "      <td>0</td>\n",
       "      <td>delluiza@yandex.ru</td>\n",
       "      <td>2020-04-09</td>\n",
       "      <td>vkmix.com</td>\n",
       "      <td>At an unconfirmed date, the Russian social med...</td>\n",
       "    </tr>\n",
       "    <tr>\n",
       "      <td>0</td>\n",
       "      <td>delluiza@yandex.ru</td>\n",
       "      <td>2020-11-05</td>\n",
       "      <td>vimeworld.ru</td>\n",
       "      <td>In January 2018, the Russian Minecraft server ...</td>\n",
       "    </tr>\n",
       "  </tbody>\n",
       "</table>\n",
       "</div>"
      ],
      "text/plain": [
       "                  email publish_date        source_breach  \\\n",
       "0  alpotehinj@gmail.com   2017-04-14      streamcraft.net   \n",
       "0  alpotehinj@gmail.com   2020-07-23          wattpad.com   \n",
       "0  alpotehinj@gmail.com   2020-11-19          gonitro.com   \n",
       "0  alpotehinj@gmail.com   2020-11-05         vimeworld.ru   \n",
       "0    delluiza@yandex.ru   2017-04-14      streamcraft.net   \n",
       "0    delluiza@yandex.ru   2020-05-28           stalker.so   \n",
       "0    delluiza@yandex.ru   2019-08-08          borealis.su   \n",
       "0    delluiza@yandex.ru   2020-07-23          wattpad.com   \n",
       "0    delluiza@yandex.ru   2017-02-14       parapa.mail.ru   \n",
       "0    delluiza@yandex.ru   2020-12-03  mindset24global.com   \n",
       "0    delluiza@yandex.ru   2016-10-29               vk.com   \n",
       "0    delluiza@yandex.ru   2020-11-19          gonitro.com   \n",
       "0    delluiza@yandex.ru   2020-04-09            vkmix.com   \n",
       "0    delluiza@yandex.ru   2020-11-05         vimeworld.ru   \n",
       "\n",
       "                                         description  \n",
       "0  At an unconfirmed date, StreamCraft's user dat...  \n",
       "0  In June 2020, the online writing community Wat...  \n",
       "0  In October 2020, the PDF editor Nitro was alle...  \n",
       "0  In January 2018, the Russian Minecraft server ...  \n",
       "0  At an unconfirmed date, StreamCraft's user dat...  \n",
       "0  In January 2020, the Russian multiplayer video...  \n",
       "0  At an unconfirmed date, Russian Minecraft serv...  \n",
       "0  In June 2020, the online writing community Wat...  \n",
       "0  In July and August 2016, two criminals execute...  \n",
       "0  In November 2020, a collection of over 23,000 ...  \n",
       "0  Popular Russian social networking platform VKo...  \n",
       "0  In October 2020, the PDF editor Nitro was alle...  \n",
       "0  At an unconfirmed date, the Russian social med...  \n",
       "0  In January 2018, the Russian Minecraft server ...  "
      ]
     },
     "execution_count": 46,
     "metadata": {},
     "output_type": "execute_result"
    }
   ],
   "source": [
    "all_breaches_info"
   ]
  },
  {
   "cell_type": "markdown",
   "metadata": {},
   "source": [
    "### Дополнительная часть (необязательная)"
   ]
  },
  {
   "cell_type": "markdown",
   "metadata": {},
   "source": [
    "Написать скрипт, который будет получать 50 последних постов указанной группы во Вконтакте.  \n",
    "Документация к API VK: https://vk.com/dev/methods\n",
    ", вам поможет метод [wall.get](https://vk.com/dev/wall.get)  \n",
    "```\n",
    "GROUP = 'netology'  \n",
    "TOKEN = УДАЛЯЙТЕ В ВЕРСИИ ДЛЯ ПРОВЕРКИ, НА GITHUB НЕ ВЫКЛАДЫВАТЬ  \n",
    "```\n",
    "\n",
    "В итоге должен формироваться датафрейм со столбцами: `<дата поста> - <текст поста>`"
   ]
  },
  {
   "cell_type": "markdown",
   "metadata": {},
   "source": [
    "#### ПРИМЕЧАНИЕ\n",
    "Домашнее задание сдается ссылкой на репозиторий [GitHub](https://github.com/).\n",
    "Не сможем проверить или помочь, если вы пришлете:\n",
    "- файлы;\n",
    "- архивы;\n",
    "- скриншоты кода.\n",
    "\n",
    "Все обсуждения и консультации по выполнению домашнего задания ведутся только на соответствующем канале в slack.\n",
    "\n",
    "##### Как правильно задавать вопросы аспирантам, преподавателям и коллегам?\n",
    "Прежде чем задать вопрос необходимо попробовать найти ответ самому в интернете. Навык самостоятельного поиска информации – один из важнейших, и каждый практикующий специалист любого уровня это делает каждый день.\n",
    "\n",
    "Любой вопрос должен быть сформулирован по алгоритму:  \n",
    "1) Что я делаю?  \n",
    "2) Какого результата я ожидаю?  \n",
    "3) Как фактический результат отличается от ожидаемого?  \n",
    "4) Что я уже попробовал сделать, чтобы исправить проблему?  \n",
    "\n",
    "По возможности, прикрепляйте к вопросу скриншоты, либо ссылки на код. Оставляйте только проблемный и воспроизводимый участок кода, все решение выкладывать не допускается.\n"
   ]
  }
 ],
 "metadata": {
  "kernelspec": {
   "display_name": "Python 3",
   "language": "python",
   "name": "python3"
  },
  "language_info": {
   "codemirror_mode": {
    "name": "ipython",
    "version": 3
   },
   "file_extension": ".py",
   "mimetype": "text/x-python",
   "name": "python",
   "nbconvert_exporter": "python",
   "pygments_lexer": "ipython3",
   "version": "3.7.4"
  }
 },
 "nbformat": 4,
 "nbformat_minor": 2
}
