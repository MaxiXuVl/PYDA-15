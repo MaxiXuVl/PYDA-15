{
 "cells": [
  {
   "cell_type": "markdown",
   "metadata": {},
   "source": [
    "Смоделировать игру против лотерейного автомата типа “777”. Игрок платит 1 руб., после чего выпадает случайное целое число, равномерно распределенное от 0 до 999. При некоторых значениях числа игрок получает выигрыш (см. справа)\n",
    "\n",
    "Выгодна ли игра игроку?\n",
    "\n",
    "Сколько в среднем приобретает\n",
    "или теряет игрок за одну игру?\n",
    "\n",
    "    777: 200 руб.\n",
    "    999: 100 руб.\n",
    "    555: 50 руб.\n",
    "    333: 15 руб.\n",
    "    111: 10 руб.\n",
    "    *77: 5 руб.\n",
    "    **7: 3 руб.\n",
    "    *00: 2 руб.\n",
    "    **0: 1 руб.\n",
    "\n",
    "* – любая цифра"
   ]
  },
  {
   "cell_type": "code",
   "execution_count": 3,
   "metadata": {},
   "outputs": [],
   "source": [
    "import numpy as np\n",
    "import pandas as pd"
   ]
  },
  {
   "cell_type": "code",
   "execution_count": 4,
   "metadata": {},
   "outputs": [
    {
     "data": {
      "text/plain": [
       "(8014608, 10000000, 2041119, 7958881)"
      ]
     },
     "execution_count": 4,
     "metadata": {},
     "output_type": "execute_result"
    }
   ],
   "source": [
    "trails = 10000000\n",
    "dict_win = {'777': 200, '999': 100, '555': 50, '333': 15, '111': 10}\n",
    "loss_money = trails\n",
    "win_money = 0\n",
    "loss_game = 0\n",
    "\n",
    "for _ in range(trails):\n",
    "    rand_number = str(np.random.randint(0, 1000))\n",
    "    if rand_number in dict_win.keys():\n",
    "        win_money += dict_win[rand_number]\n",
    "    elif list(rand_number)[-1] == '7':\n",
    "        win_money += 3\n",
    "        try:            \n",
    "            if list(rand_number)[-2] == '7':\n",
    "                win_money += 2\n",
    "        except:\n",
    "            pass\n",
    "    elif list(rand_number)[-1] == '0':\n",
    "        win_money += 1\n",
    "        try:            \n",
    "            if list(rand_number)[-2] == '0':\n",
    "                win_money += 1\n",
    "        except:\n",
    "            win_money += 1\n",
    "    else:\n",
    "        loss_game += 1\n",
    "\n",
    "\n",
    "win_money, loss_money, trails-loss_game, loss_game"
   ]
  },
  {
   "cell_type": "code",
   "execution_count": 19,
   "metadata": {},
   "outputs": [
    {
     "name": "stdout",
     "output_type": "stream",
     "text": [
      "В среднем человек за серию игр теряет 19.85% от вложненного, т.е. выигрывает порядка 80.15%.\n",
      "В среднем человек выигрывает 20.41% сыгранных игр.\n"
     ]
    }
   ],
   "source": [
    "loss_money_mean = (loss_money - win_money) / loss_money\n",
    "win_money_mean = win_money / loss_money\n",
    "loss_game_mean = (trails-loss_game) / trails\n",
    "print('В среднем человек за серию игр теряет {:.2%} от вложненного, т.е. выигрывает порядка {:.2%}.'.format(loss_money_mean, win_money_mean))\n",
    "print('В среднем человек выигрывает {:.2%} сыгранных игр.'.format(loss_game_mean))"
   ]
  },
  {
   "cell_type": "markdown",
   "metadata": {},
   "source": [
    "### Дополнительное задание "
   ]
  },
  {
   "cell_type": "markdown",
   "metadata": {},
   "source": [
    "Теоретически рассчитать средний выигрыш (проигрыш) и сравнить с результатами моделирования."
   ]
  },
  {
   "cell_type": "markdown",
   "metadata": {},
   "source": [
    "Посчитаем количество положительных исходов.\n",
    "1. Комбинации из 3 цифр: '777','999','555', '333', '111' => подходит 5 варианта.\n",
    "2. Комбинация из 2 цифр: две семерки на конце содержит в каждой сотне. Тогда всего из 999 целых чисел комбинация '.77' может встретиться 10 раз. Но стоит вычесть один благоприятный исход 777, который был учтен выше. Два нуля на конце могут встретиться аналогично 10 раз. Тогда всего выигрышные комбинации из 2 цифр могут встретиться 19 раз.\n",
    "3. Комбинации из 1 цифры: 7 и 0 в конце встречается в каждом десятке, т.е. в сотне их можно встретить 10 раз. НО! Один раз в сотне эти значения повторяются с предыдущим вариантом комбинации из 2 цифр в конце, т.е. нас устроит только 9 совпадений для каждого числа (18 для обоих). В каждой сотне будет наблюдатся такая ситуация, т.е. 18 * 10 = 180 вариантов всего нам подойдет.\n",
    "\n",
    "Итого благопритяных исходов всего 5 + 19 + 180 = 204\n",
    "Всего исходов 1000, тогда:"
   ]
  },
  {
   "cell_type": "code",
   "execution_count": 6,
   "metadata": {},
   "outputs": [
    {
     "data": {
      "text/plain": [
       "'Процентт выигрышных партий составляет 20.40%'"
      ]
     },
     "execution_count": 6,
     "metadata": {},
     "output_type": "execute_result"
    }
   ],
   "source": [
    "'Теоретический процентт выигрышных партий составляет {:.2%}'.format(204 / 1000)"
   ]
  },
  {
   "cell_type": "markdown",
   "metadata": {},
   "source": [
    "Смоделированная вероятность выигрыша совпала с теоретической, как минимум, до 3 знаков после запятой, что не может не радовать. В отличии от ее абсолютного значения :("
   ]
  },
  {
   "cell_type": "markdown",
   "metadata": {},
   "source": [
    "Теперь рассчитаем вероятный средний выигрыш по формуле среднего для дискретных величин:"
   ]
  },
  {
   "cell_type": "code",
   "execution_count": 20,
   "metadata": {},
   "outputs": [
    {
     "name": "stdout",
     "output_type": "stream",
     "text": [
      "Теоретический процент среднего выигрыша от вложенных затрат составляет 80.00%\n"
     ]
    }
   ],
   "source": [
    "win_teor_mean = 1/1000 * (200 + 100 + 50 + 15 + 10) + 9/1000 * 5 + 10/1000 * 2 + 90/1000 * (3 + 1)\n",
    "print('Теоретический процент среднего выигрыша от вложенных затрат составляет {:.2%}'.format(win_teor_mean))"
   ]
  },
  {
   "cell_type": "markdown",
   "metadata": {},
   "source": [
    "Получили результаты, близкие по значению с смоделированными."
   ]
  }
 ],
 "metadata": {
  "kernelspec": {
   "display_name": "Python 3",
   "language": "python",
   "name": "python3"
  },
  "language_info": {
   "codemirror_mode": {
    "name": "ipython",
    "version": 3
   },
   "file_extension": ".py",
   "mimetype": "text/x-python",
   "name": "python",
   "nbconvert_exporter": "python",
   "pygments_lexer": "ipython3",
   "version": "3.7.4"
  }
 },
 "nbformat": 4,
 "nbformat_minor": 2
}
